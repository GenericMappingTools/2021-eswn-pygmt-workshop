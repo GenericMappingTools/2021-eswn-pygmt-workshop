{
 "cells": [
  {
   "cell_type": "markdown",
   "id": "0afcaf70-c449-44cd-8212-ecac3f869fae",
   "metadata": {
    "tags": []
   },
   "source": [
    "# 1. PyGMT Refresher Webinar\n",
    "\n",
    "# 1.1 Learning Objectives\n",
    "\n",
    "- **1.2**: Provide an overview of PyGMT\n",
    "- **2.1**: Load x,y,z data into a pandas.DataFrame\n",
    "- **2.2**: Plot tabular data\n",
    "- **2.3**: Grid x,y,z data\n",
    "- **2.4**: Plot gridded data\n",
    "- **3.1**: Add map embellishments\n",
    "- **4.1**: Add insets\n",
    "- **5.1**: Create subplots\n"
   ]
  },
  {
   "cell_type": "markdown",
   "id": "40716036-d0d5-4001-93bd-306a549318ad",
   "metadata": {
    "tags": []
   },
   "source": [
    "## 1.2 PyGMT Overview\n",
    "\n",
    "### What is PyGMT?\n",
    "\n",
    "- PyGMT is an open-source Python package for geospatial data processing, analysis, and visualization.\n",
    "- PyGMT is designed to:\n",
    "  - support rich display in Jupyter notebooks.\n",
    "  - improve access to the Generic Mapping Tools (GMT).\n",
    "  - integrate smoothly with scientific Python packages (e.g., NumPy, pandas, xarray, GeoPandas).\n",
    "  \n",
    "### How does PyGMT compare to other common Python packages and software?\n",
    "\n",
    "**How does PyGMT differ from GMT?**\n",
    "\n",
    "- PyGMT provides a Python interface for the GMT C API, which has been traditionally accessed\n",
    "  through the command line.\n",
    "\n",
    "**How does PyGMT differ from Matplotlib?**\n",
    "\n",
    "- PyGMT produces static vector graphics, whereas Matplotlib has a larger focus on\n",
    "  interactivity.\n",
    "\n",
    "**How does PyGMT differ from Cartopy?**\n",
    "\n",
    "- PyGMT is built on GMT's processing and plotting functionality, whereas Cartopy is built on\n",
    "  Matplotlib's plotting functionality, along with NumPy, Shapely, and PROJ.4.\n",
    "  \n",
    "### Where is the documentation for PyGMT?\n",
    "\n",
    "- The documentation is located at https://www.pygmt.org/latest/index.html.\n",
    "- To view the documentation for a different version, use the drop-down menu\n",
    "  in the upper-left corner or the links in the\n",
    "  [compatibility table](https://www.pygmt.org/latest/index.html#compatibility-with-gmt-python-numpy-versions).\n",
    "  Since this refresher is associated with a developer workshop, all the links in\n",
    "  the tutorial will go to the [dev docs](https://www.pygmt.org/dev/index.html).\n",
    "- If you are working in a Jupyter Notebook, you can also view the docstrings for\n",
    "  PyGMT functions by clicking shift-tab after typing in the function name (and\n",
    "  you can use tab-completion to finish function names).\n",
    "\n",
    "### Warning about PyGMT\n",
    "\n",
    "PyGMT is undergoing rapid development. This makes now a great time to get involved with the\n",
    "PyGMT Community to help shape the future of the project. It also means that all of the\n",
    "application program interface (API; i.e., how you interact with PyGMT), is subject to change\n",
    "with non-backward compatible changes. Non-backward compatible means that the workflows\n",
    "that you create today are not guaranteed to work in the future, although the PyGMT\n",
    "[deprecation policy](https://www.pygmt.org/dev/maintenance.html#backwards-compatibility-and-deprecation-policy)\n",
    "includes the goals of providing warning about these changes and only making necessary\n",
    "changes."
   ]
  },
  {
   "cell_type": "markdown",
   "id": "23c87992-51d1-499c-9104-356c43f4d9e4",
   "metadata": {},
   "source": [
    "## 2.1: Load x,y,z data into a pandas.DataFrame\n",
    "\n",
    "PyGMT excels at processing and plotting geographic data. The first few sections of this\n",
    "tutorial cover some processing capabilities of PyGMT while the last sections cover\n",
    "plotting capabilities. First, let's get started by loading in some sample data using\n",
    "one of PyGMT's [functions to load sample datasets](https://www.pygmt.org/dev/api/index.html#datasets)."
   ]
  },
  {
   "cell_type": "code",
   "execution_count": null,
   "id": "c8fc945e-06b2-4e03-b5ae-633718f7dd3d",
   "metadata": {},
   "outputs": [],
   "source": [
    "import pygmt"
   ]
  },
  {
   "cell_type": "code",
   "execution_count": null,
   "id": "e18b60d1-2541-4947-927d-6c5ac8e9e503",
   "metadata": {},
   "outputs": [],
   "source": [
    "# Load a table of ship bathymetric observations off Baja California\n",
    "data = pygmt.datasets.load_sample_bathymetry()\n",
    "# Return a summary about the dataset using pandas.DataFrame.info()\n",
    "data.info()"
   ]
  },
  {
   "cell_type": "code",
   "execution_count": null,
   "id": "e05e2d84-7f5e-4b58-81c1-86999f628a95",
   "metadata": {},
   "outputs": [],
   "source": [
    "# Use pygmt.info() to store the x/y range of data values rounded to the nearest degree\n",
    "region = pygmt.info(data, spacing=1)\n",
    "region"
   ]
  },
  {
   "cell_type": "markdown",
   "id": "bc86cb44-b0c6-4373-98f6-a465a5273108",
   "metadata": {},
   "source": [
    "## 2.2 Plot tabular data\n",
    "\n",
    "Let's plot the x,y,z data! The basic steps for plotting in\n",
    "PyGMT are to create an instance of the Figure class and\n",
    "the call its plotting methods. The first time that you\n",
    "call a plotting method, you will probably want to use\n",
    "these three parameters:\n",
    "\n",
    "- The ``frame`` parameter. \n",
    "  - This parameter controls the appearance of the map frame\n",
    "    boundary.\n",
    "  - For simple, automatic frame settings you can use ``frame=True``.\n",
    "  - There's a lot the frame parameter can do. We'll learn more\n",
    "    later, or you can check out the [frame tutorial](https://www.pygmt.org/dev/tutorials/frames.html).\n",
    "- The ``region`` parameter.\n",
    "  - This parameter controls the boundaries of the plot, usually\n",
    "    by accepting an array in the form `[xmin, xmax, ymin, ymax]`.\n",
    "  - There are a few special options for the ``region`` parameter,\n",
    "    which you can learn about in the [region tutorial](https://www.pygmt.org/dev/tutorials/regions.html).\n",
    "- The ``projection`` parameter.\n",
    "  - This parameter controls how your data are mapped onto a 2D\n",
    "    plot. The control over projection is what sets libraries\n",
    "    like PyGMT and Cartopy apart from libraries focuses on\n",
    "    non-geographic datasets. There are many projections\n",
    "    options listed in the [projections table](https://www.pygmt.org/dev/projections/index.html#projection-table)\n",
    "    with examples shown in the [projections gallery](https://www.pygmt.org/dev/projections/index.html).\n",
    "\n",
    "    "
   ]
  },
  {
   "cell_type": "code",
   "execution_count": null,
   "id": "a8c33655-5ce9-4776-b60f-b5135f882f89",
   "metadata": {},
   "outputs": [],
   "source": [
    "# Make a quick plot of the data\n",
    "# Create an instance of the pygmt.Figure() class\n",
    "fig = pygmt.Figure()\n",
    "# Plot the data on the figure using 1 point, blue circles (style=\"c1p\", color=\"slateblue\")\n",
    "# Set a simple, automatic frame (``frame=True``)\n",
    "# Use a Mercator projection on a 6 inch wide plot (``projection=\"M6i\"``)\n",
    "fig.plot(data=data, frame=True, region=region, projection=\"M6i\", style=\"c1p\", color=\"slateblue\")\n",
    "# Display the figure\n",
    "fig.show()"
   ]
  },
  {
   "cell_type": "markdown",
   "id": "9cf33f65-eb44-4f24-b1f4-bfe957f341ce",
   "metadata": {
    "tags": []
   },
   "source": [
    "## 2.3 Grid x,y,z data\n",
    "\n",
    "There are many different ways to grid irregularly-spaced x,y,z data. Here we'll use\n",
    "one workflow for gridding tabular data using PyGMT:\n",
    "\n",
    "- Preprocess data using moving median to avoid spatial aliasing and eliminate redundant data\n",
    "- Use a minimum curvature technique to produce gridded values from x,y,z triplets\n"
   ]
  },
  {
   "cell_type": "markdown",
   "id": "e4e85a84-da96-4f20-a522-063204e4abe1",
   "metadata": {},
   "source": [
    "### Block average data using median estimation"
   ]
  },
  {
   "cell_type": "code",
   "execution_count": null,
   "id": "514953d3-8fd6-4b95-85bd-0f70e9f3255a",
   "metadata": {},
   "outputs": [],
   "source": [
    "# Specify that 10 arc-minute blocks will be used for the analysis\n",
    "spacing=\"10m\"\n",
    "# Compute the median position and value for every non-empty 10 arc-minute block\n",
    "# in the bathymetry dataset\n",
    "data_median = pygmt.blockmedian(data, region=region, spacing=spacing)\n",
    "# Return a summary about the dataset using pandas.DataFrame.info()\n",
    "data_median.info()"
   ]
  },
  {
   "cell_type": "markdown",
   "id": "646ef26f-8735-4fd3-9d0b-f439df3c951c",
   "metadata": {},
   "source": [
    "### Plot the x,y,z data returned from blockmedian"
   ]
  },
  {
   "cell_type": "code",
   "execution_count": null,
   "id": "a82dcad6-ac8a-4ba4-b1e4-44c849f905d4",
   "metadata": {},
   "outputs": [],
   "source": [
    "# Create an instance of the pygmt.Figure() class\n",
    "fig = pygmt.Figure()\n",
    "# Plot the data on the figure using 5 point, blue circles (style=\"c\")\n",
    "# Use a Mercator projection on a 6 inch wide plot (``projection=\"M6i\"``)\n",
    "# Use automatic annotation and tick intervals and set a title (``frame=[\"af\", \"+t\"Results from pygmt.blockmedian()\"\"]``)\n",
    "fig.plot(data=data_median, frame=[\"af\", '+t\"Results from pygmt.blockmedian()\"'], region=region, projection=\"M6i\", style=\"c5p\", color=\"slateblue\")\n",
    "# Display the figure\n",
    "fig.show()"
   ]
  },
  {
   "cell_type": "markdown",
   "id": "68f7626b-b23e-4bac-bfab-57ba6e65505c",
   "metadata": {},
   "source": [
    "### Grid the data using continuous curvature splines"
   ]
  },
  {
   "cell_type": "code",
   "execution_count": null,
   "id": "67536f83-6867-4c23-95f6-7134382387dd",
   "metadata": {},
   "outputs": [],
   "source": [
    "# First, we need to convert the pandas.DataFrame to a numpy ndarray\n",
    "# (most other functions that accept tabular input accept dataframes)\n",
    "# (see https://github.com/GenericMappingTools/pygmt/issues/1443 for details)\n",
    "data_median = data_median.to_numpy()\n",
    "\n",
    "# Produce a grid from the x,y,z data using pygmt.surface()\n",
    "grid = pygmt.surface(data=data_median, region=region, spacing=spacing)\n",
    "# Inspect the xarray.dataarray returned from pygmt.surface()\n",
    "grid"
   ]
  },
  {
   "cell_type": "markdown",
   "id": "bc97356e-e8de-48c1-8717-6268ca79d4ae",
   "metadata": {
    "tags": []
   },
   "source": [
    "## 2.4 Plot gridded data\n",
    "\n",
    "One of the most common methods to plot gridded data with\n",
    "PyGMT is using the Figure.grdimage method. As with before,\n",
    "we'll use the region, projection, and frame parameters to\n",
    "control the map appearance. We'll also use the\n",
    "pygmt.makecpt function to create a colormap using one of the\n",
    "[Scientific Colour Maps](https://www.fabiocrameri.ch/colourmaps/)\n",
    "available through GMT."
   ]
  },
  {
   "cell_type": "code",
   "execution_count": null,
   "id": "04caf977-f9ab-4fb3-a031-7267727dab38",
   "metadata": {},
   "outputs": [],
   "source": [
    "# Create an instance of the pygmt.Figure() class\n",
    "fig = pygmt.Figure()\n",
    "# Create a colormap for the data using pygmt.makecpt()\n",
    "# Use the `lapaz` scientific colormap (cmap=`lapaz`)\n",
    "pygmt.makecpt(cmap=\"lapaz\", series=[-8000, 0])\n",
    "# Plot the data on the figure using 5 point, blue circles (style=\"c\")\n",
    "# Use a Mercator projection on a 6 inch wide plot (``projection=\"M6i\"``)\n",
    "# Use automatic annotation and tick intervals and set a title (``frame=[\"af\", \"+t\"Results from pygmt.blockmedian()\"\"]``)\n",
    "fig.grdimage(grid=grid, frame=[\"af\", '+t\"Results from pygmt.blockmedian()\"'], region=region, projection=\"M6i\", shading=True)\n",
    "# Overlay contours from the gridded data\n",
    "fig.grdcontour(grid=grid, limit=[-8000, 0], interval=250, annotation=1000)\n",
    "# Display the figure\n",
    "fig.show()"
   ]
  }
 ],
 "metadata": {
  "kernelspec": {
   "display_name": "Python 3 (ipykernel)",
   "language": "python",
   "name": "python3"
  },
  "language_info": {
   "codemirror_mode": {
    "name": "ipython",
    "version": 3
   },
   "file_extension": ".py",
   "mimetype": "text/x-python",
   "name": "python",
   "nbconvert_exporter": "python",
   "pygments_lexer": "ipython3",
   "version": "3.9.6"
  }
 },
 "nbformat": 4,
 "nbformat_minor": 5
}
